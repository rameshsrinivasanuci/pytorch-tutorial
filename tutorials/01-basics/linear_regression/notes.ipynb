{
 "cells": [
  {
   "attachments": {},
   "cell_type": "markdown",
   "metadata": {},
   "source": [
    "# Linear Regression\n",
    "> Building and training of the linear regression model on a toy dataset\n",
    ">\n",
    "> **Table of Contents**\n",
    ">> 1. Import Necessary Library Modules\n",
    ">>\n",
    ">> 2. Initillize the Dataset\n",
    ">>\n",
    ">> 3. Define a Linear Regression Model\n",
    ">>\n",
    ">> 4. Define a Loss Function and Optimizer\n",
    ">>\n",
    ">> 5. Train the Linear Regression Model\n",
    ">>\n",
    ">> 6. Get the Predictions of the Trained Linear Regression Model\n",
    ">>\n",
    ">> 7. Plot the Results of the Trained Linear Regression Model\n",
    ">>\n",
    ">> 8. Save the Current Model Checkpoint"
   ]
  },
  {
   "attachments": {},
   "cell_type": "markdown",
   "metadata": {},
   "source": [
    "## Import Necessary Library Modules"
   ]
  },
  {
   "attachments": {},
   "cell_type": "markdown",
   "metadata": {},
   "source": [
    "> Before doing anything, we must take note of the needed library modules and import them to our environment"
   ]
  },
  {
   "cell_type": "code",
   "execution_count": 1,
   "metadata": {},
   "outputs": [],
   "source": [
    "#Torch library needed for machine learning\n",
    "import torch\n",
    "\n",
    "#Numpy needed for data initiallization\n",
    "import numpy as np\n",
    "\n",
    "#Matplotlib.Pyplot needed for plotting functionality\n",
    "import matplotlib.pyplot as plt"
   ]
  },
  {
   "attachments": {},
   "cell_type": "markdown",
   "metadata": {},
   "source": [
    "## Initiallize the Dataset"
   ]
  },
  {
   "attachments": {},
   "cell_type": "markdown",
   "metadata": {},
   "source": [
    "> First step is to initiallize the dataset, creating two np arrays: one for training features and one for the corresponding labels"
   ]
  },
  {
   "cell_type": "code",
   "execution_count": 2,
   "metadata": {},
   "outputs": [],
   "source": [
    "#Initiallize the training data for x (feature matrix)\n",
    "x_train = np.array(\n",
    "    [\n",
    "        [3.3], [4.4], [5.5], [6.71], [6.93], [4.168], \n",
    "        [9.779], [6.182], [7.59], [2.167], [7.042], \n",
    "        [10.791], [5.313], [7.997], [3.1]\n",
    "    ],\n",
    "    dtype=np.float32\n",
    ")\n",
    "\n",
    "#Initiallize the training data for the y (label vector)\n",
    "y_train = np.array(\n",
    "    [\n",
    "        [1.7], [2.76], [2.09], [3.19], [1.694], [1.573], \n",
    "        [3.366], [2.596], [2.53], [1.221], [2.827], \n",
    "        [3.465], [1.65], [2.904], [1.3]\n",
    "    ],\n",
    "    dtype=np.float32\n",
    ")"
   ]
  },
  {
   "attachments": {},
   "cell_type": "markdown",
   "metadata": {},
   "source": [
    "## Define a Linear Regression Model"
   ]
  },
  {
   "attachments": {},
   "cell_type": "markdown",
   "metadata": {},
   "source": [
    "> Specify the hyperparameters (parameters that describe how the model generates parameters) an instantiate the model"
   ]
  },
  {
   "cell_type": "code",
   "execution_count": 3,
   "metadata": {},
   "outputs": [],
   "source": [
    "#First we need to specify the hyperparameters we want for our linear regression model\n",
    "input_size = 1\n",
    "output_size = 1\n",
    "\n",
    "#Next, we need to instantiate our model with the defined hyperparameters\n",
    "LinRegModel = torch.nn.Linear(input_size, output_size)"
   ]
  },
  {
   "attachments": {},
   "cell_type": "markdown",
   "metadata": {},
   "source": [
    "## Define a Loss Function and Optimizer"
   ]
  },
  {
   "attachments": {},
   "cell_type": "markdown",
   "metadata": {},
   "source": [
    "> After defining our model, we must then define the loss function that we will use to compute the total error between the predicted and true labels"
   ]
  },
  {
   "cell_type": "code",
   "execution_count": 4,
   "metadata": {},
   "outputs": [],
   "source": [
    "#Define our loss function as the mean-square error (MSE)\n",
    "lossFunction = torch.nn.MSELoss()"
   ]
  },
  {
   "attachments": {},
   "cell_type": "markdown",
   "metadata": {},
   "source": [
    "> We must also define an optimizer which will go about updating our model parameters after running through a given batch of the training data.\n",
    ">\n",
    ">For an optimizer, we can define another hyperparameter for the step size of each update (called the learning rate)."
   ]
  },
  {
   "cell_type": "code",
   "execution_count": 5,
   "metadata": {},
   "outputs": [],
   "source": [
    "#Specify the hyperparameter related to the optimizer (learning rate)\n",
    "learning_rate = 0.001\n",
    "\n",
    "#Instantiate an SDG optimizer for the linear regression model\n",
    "optimizer = torch.optim.SGD(LinRegModel.parameters(), lr=learning_rate)"
   ]
  },
  {
   "attachments": {},
   "cell_type": "markdown",
   "metadata": {},
   "source": [
    "## Train the Linear Regression Model"
   ]
  },
  {
   "attachments": {},
   "cell_type": "markdown",
   "metadata": {},
   "source": [
    "> With the model, losss function, optimizer, and related hyperparameters defined, the last step is to train the model ny iterating through our training data.\n",
    ">\n",
    "> There are two additional hyperparameters which dictate how we iterate through the training data:\n",
    ">> Batch Size: can be thought of as the number of subsets we split the training data into, performing an update of the parameters after training on each subset\n",
    ">>\n",
    ">> Number of Epochs: The number of times that we iterate over the entire dataset\n",
    ">\n",
    "> Combining the two, this means we expect to update the parameters of the model (Epochs)*(Batch Size) number of times"
   ]
  },
  {
   "cell_type": "code",
   "execution_count": 10,
   "metadata": {},
   "outputs": [
    {
     "name": "stdout",
     "output_type": "stream",
     "text": [
      "Epoch [5/60], Loss: 2.9900896549224854\n",
      "Epoch [10/60], Loss: 1.349678635597229\n",
      "Epoch [15/60], Loss: 0.6850249171257019\n",
      "Epoch [20/60], Loss: 0.41566601395606995\n",
      "Epoch [25/60], Loss: 0.3064478635787964\n",
      "Epoch [30/60], Loss: 0.2621055543422699\n",
      "Epoch [35/60], Loss: 0.24404551088809967\n",
      "Epoch [40/60], Loss: 0.23663330078125\n",
      "Epoch [45/60], Loss: 0.2335348278284073\n",
      "Epoch [50/60], Loss: 0.23218420147895813\n",
      "Epoch [55/60], Loss: 0.23154187202453613\n",
      "Epoch [60/60], Loss: 0.23118679225444794\n"
     ]
    }
   ],
   "source": [
    "#Define the hyperparameters for training the model (updating the parameters)\n",
    "batch_size = 1\n",
    "num_epochs = 60\n",
    "\n",
    "#Train the model\n",
    "#Loop over entire dataset for as many number of epochs\n",
    "for epoch in range(num_epochs):\n",
    "    #Slip dataset into batch_size number of batch and loop over each one\n",
    "    for batch in range(batch_size):\n",
    "        #Calculate the starting and ending index of the batch for the current iteration of the loop\n",
    "        start_index = int((batch/batch_size)*y_train.size)\n",
    "        end_index = int(((batch+1)/batch_size)*y_train.size)\n",
    "        \n",
    "        #Get the x and y training batches for the current iteration of the loop\n",
    "        x_train_batch = x_train[start_index:end_index,:]\n",
    "        y_train_batch = y_train[start_index:end_index]\n",
    "\n",
    "        #Convert the numpy array batches into pytorch tensor objects\n",
    "        inputs = torch.from_numpy(x_train_batch)\n",
    "        targets = torch.from_numpy(y_train_batch)\n",
    "\n",
    "        #Perform a forward propogation with the batch\n",
    "        outputs = LinRegModel(inputs)\n",
    "\n",
    "        #Compute the total loss of the current model predictions to the targets\n",
    "        loss = lossFunction(outputs, targets)\n",
    "\n",
    "        #Reset the gradient of the optimizer to assume a fresh start\n",
    "        optimizer.zero_grad()\n",
    "\n",
    "        #Now Perform backward propogation from the loss to determine the stochastic gradient descent step\n",
    "        loss.backward()\n",
    "\n",
    "        #Lastly, perform a SGD step via the optimizer\n",
    "        optimizer.step()\n",
    "\n",
    "        #Print the loss after every 5 epochs\n",
    "        if((epoch + 1) % 5 == 0):\n",
    "            print(f\"Epoch [{epoch+1}/{num_epochs}], Loss: {loss.item()}\")"
   ]
  },
  {
   "attachments": {},
   "cell_type": "markdown",
   "metadata": {},
   "source": [
    "## Get the Predictions of the Trained Linear Regression Model"
   ]
  },
  {
   "attachments": {},
   "cell_type": "markdown",
   "metadata": {},
   "source": [
    "> Now that the model has been fully trained, the next step is to see the predictions it makes on the training feature vectors"
   ]
  },
  {
   "cell_type": "code",
   "execution_count": 13,
   "metadata": {},
   "outputs": [],
   "source": [
    "#First get the prediction tensor of the trained model\n",
    "predictions = LinRegModel(torch.from_numpy(x_train))\n",
    "\n",
    "#Then detatch the tensor to prevent unwanted changes upon analysis\n",
    "predictions = predictions.detach()\n",
    "\n",
    "#Finally, convert the tensor back into a numpy array\n",
    "predictions = predictions.numpy()\n"
   ]
  },
  {
   "attachments": {},
   "cell_type": "markdown",
   "metadata": {},
   "source": [
    "## Plot the Results of the Trained Linear Regression Model"
   ]
  },
  {
   "attachments": {},
   "cell_type": "markdown",
   "metadata": {},
   "source": [
    "> We can now plot the predictions of the trained model against the true labels to see how they compare"
   ]
  },
  {
   "cell_type": "code",
   "execution_count": 14,
   "metadata": {},
   "outputs": [
    {
     "data": {
      "image/png": "[encoded data removed]",
      "text/plain": [
       "<Figure size 640x480 with 1 Axes>"
      ]
     },
     "metadata": {},
     "output_type": "display_data"
    }
   ],
   "source": [
    "#Plot the comparison between the true labels and the predictions made by the trained model\n",
    "plt.plot(x_train, y_train, \"ro\", label=\"Original Data\")\n",
    "plt.plot(x_train, predictions, label=\"Fitted Line\")\n",
    "plt.legend()\n",
    "plt.show()"
   ]
  },
  {
   "attachments": {},
   "cell_type": "markdown",
   "metadata": {},
   "source": [
    "## Save the Current Model Checkpoint"
   ]
  },
  {
   "attachments": {},
   "cell_type": "markdown",
   "metadata": {},
   "source": [
    "> We have the option to save the current model to that we can reload the parameters and do not need to retrain it.\n",
    ">\n",
    "> This is very useful for large models that require long training periods or sharing models with others"
   ]
  },
  {
   "cell_type": "code",
   "execution_count": 15,
   "metadata": {},
   "outputs": [],
   "source": [
    "#Save the model checkpoint\n",
    "torch.save(LinRegModel.state_dict(), \"LinRegModel.ckpt\")"
   ]
  }
 ],
 "metadata": {
  "kernelspec": {
   "display_name": "PythonVirtualEnvironment",
   "language": "python",
   "name": "python3"
  },
  "language_info": {
   "codemirror_mode": {
    "name": "ipython",
    "version": 3
   },
   "file_extension": ".py",
   "mimetype": "text/x-python",
   "name": "python",
   "nbconvert_exporter": "python",
   "pygments_lexer": "ipython3",
   "version": "3.10.11"
  },
  "orig_nbformat": 4
 },
 "nbformat": 4,
 "nbformat_minor": 2
}
