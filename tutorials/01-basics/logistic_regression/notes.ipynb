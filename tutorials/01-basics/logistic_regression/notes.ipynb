{
 "cells": [
  {
   "attachments": {},
   "cell_type": "markdown",
   "metadata": {},
   "source": [
    "# Logistic Regression\n",
    "> Building an training the Logistic Regression model on the MNIST dataset\n",
    ">\n",
    "> Called a \"Regression Model\" because we are outputting a real-number for the probability that a given class is true. From here, we can take the class with the maximum probability to be the class for the datapoint (giving the illusion of classification).\n",
    ">\n",
    "> **Table of Contents**\n",
    ">> 1. Import Modules\n",
    ">>\n",
    ">> 2. Load Datasets\n",
    ">>\n",
    ">> 3. Define Model\n",
    ">>\n",
    ">> 4. Define Loss Function and Optimizer\n",
    ">>\n",
    ">> 5. Train Model\n",
    ">>\n",
    ">> 6. Test Model\n",
    ">>\n",
    ">> 7. Save Model"
   ]
  },
  {
   "attachments": {},
   "cell_type": "markdown",
   "metadata": {},
   "source": [
    "## Import Modules"
   ]
  },
  {
   "attachments": {},
   "cell_type": "markdown",
   "metadata": {},
   "source": [
    "> Before doing anything, we must import the needed modules"
   ]
  },
  {
   "cell_type": "code",
   "execution_count": 159,
   "metadata": {},
   "outputs": [],
   "source": [
    "#Torch Library needed for Machine Learning\n",
    "import torch\n",
    "\n",
    "#TorchVision needed to import image dataset and perform image transformations (into tensors)\n",
    "import torchvision\n",
    "\n",
    "#matplotlib.pyplot for plotting the loss function\n",
    "import matplotlib.pyplot as plt\n",
    "\n",
    "#time for computing how long the model takes to train\n",
    "import time"
   ]
  },
  {
   "attachments": {},
   "cell_type": "markdown",
   "metadata": {},
   "source": [
    "## Load Datasets"
   ]
  },
  {
   "attachments": {},
   "cell_type": "markdown",
   "metadata": {},
   "source": [
    "> Now that we have imported our modules, we must load the data we want to work with\n",
    ">\n",
    "> We will load two datasets: Train and Test (specified by the dataset's \"train\" parameter)\n",
    ">\n",
    "> Step 1 is to download the data onto our local drive"
   ]
  },
  {
   "cell_type": "code",
   "execution_count": 160,
   "metadata": {},
   "outputs": [],
   "source": [
    "#Download and make a reference to the training dataset\n",
    "training_dataset = torchvision.datasets.MNIST(root=\"./data\",\n",
    "                                              train=True,\n",
    "                                              transform=torchvision.transforms.ToTensor(),\n",
    "                                              download=True)\n",
    "\n",
    "#Download and make a reference to the training dataset\n",
    "#Note: The data is already downloaded via the first command (dont need to set the download parameter as true)\n",
    "testing_dataset = torchvision.datasets.MNIST(root=\"./data\",\n",
    "                                             train=False,\n",
    "                                             transform=torchvision.transforms.ToTensor(),\n",
    "                                             download=True)"
   ]
  },
  {
   "attachments": {},
   "cell_type": "markdown",
   "metadata": {},
   "source": [
    "> Step 2: With the Data downloaded and referenced, we can properly load the data to be read via the DataLoader class\n",
    ">\n",
    "> We will also specify a hyperparameter for how to split the data into subsets when reading (known as the batch_size)"
   ]
  },
  {
   "cell_type": "code",
   "execution_count": 161,
   "metadata": {},
   "outputs": [],
   "source": [
    "#Specify the hyperparameter for the batch size\n",
    "#Batch Size: number of datapoints read in the backpropogation algorithm to compute the gradient\n",
    "batch_size = 100 #read 100 datapoints at a time, then update parameters\n",
    "\n",
    "#Define how to input the training data via the DataLoader\n",
    "#Note: we are not dropping the last batch, so the last batch is not guarenteed to consist of 100 images (it will have <= 100 images)\n",
    "training_loader = torch.utils.data.DataLoader(dataset=training_dataset,\n",
    "                                              batch_size=batch_size,\n",
    "                                              shuffle=True,\n",
    "                                              drop_last=False)\n",
    "\n",
    "#Define how to input the testing data via the DataLoader\n",
    "#Note: We will not shuffle the testing data. We could if we want to, but not shuffling can help for comparing the loss of differently trained models (not too sure if that is a valid reason though)\n",
    "testing_loader = torch.utils.data.DataLoader(dataset=testing_dataset,\n",
    "                                            batch_size = batch_size,\n",
    "                                            shuffle=False,\n",
    "                                            drop_last=False)"
   ]
  },
  {
   "attachments": {},
   "cell_type": "markdown",
   "metadata": {},
   "source": [
    "## Define Model"
   ]
  },
  {
   "attachments": {},
   "cell_type": "markdown",
   "metadata": {},
   "source": [
    "> The next step is the define which machine learning model to use\n",
    ">\n",
    "> The logistic regression model is the softmax function applied to a linear model, so we need to sequntially apply each module\n",
    ">\n",
    "> **What is the difference between sigmoid and softmax?**\n",
    ">> Sigmoid = 1/(1+exp(-x))\n",
    ">>\n",
    ">> Softmax_i = exp(x_i)/(Sum{j=0->n}(exp(x_j)))\n",
    ">>\n",
    ">> Sigmoid is a special case of softmax for when we have a single output value. In the case of a single output, the output value can be thought of as being reltive to a value of 0 for the alternative class.\n",
    ">>\n",
    ">> In this case, we can derive the sigmoid function from the softmax by assuming we have an output of z in a binary classsification problem.\n",
    ">>\n",
    ">> Output: z -> Interpreted as: [z, 0]\n",
    ">>\n",
    ">> Probability of class with output z being the correct class = Softmax on [z, 0]\n",
    ">> \n",
    ">> = exp(z)/(exp(z)+exp(0)) \n",
    ">>\n",
    ">> = exp(z)/(exp(z)+1) \n",
    ">>\n",
    ">> = exp(z)/(exp(z)+1)*(exp(-z)/exp(-z)) \n",
    ">>\n",
    ">> = 1/(1+exp(-z))\n",
    ">\n",
    "> Since the Logistic Regresssion model has multiple components, we must define a class to specify the sequence which these modules act on the data\n",
    ">\n",
    "> For actual implementation, it is better to use the LogSoftmax function as stated on the PyTorch documentation (https://pytorch.org/docs/stable/generated/torch.nn.Softmax.html). This is stated for numerical stability and can also be argued to be useful since it would reduce the number of computations (cancelling out operations when applying logs and exponentials)"
   ]
  },
  {
   "cell_type": "code",
   "execution_count": 162,
   "metadata": {},
   "outputs": [],
   "source": [
    "#Must create a class to define the sequence which the modules act on the input data for the logistic regression model\n",
    "class LogisticRegression(torch.nn.Module):\n",
    "    #Define the structure of the model in its constructor\n",
    "    def __init__(self, input_size, num_classes):\n",
    "        #We first want to call the constructor of the parent class of the LogisticRegression class (torch.nn.Module) on this specific instance of the class\n",
    "        super(LogisticRegression, self).__init__()\n",
    "        #Next we will define a sequence of operations to act on the data (need to define a ModuleList so PyTorch can recognize the torch.nn modules in a list a get the model parameters)\n",
    "        #For Logistic Regression Model: Linear Model -> Softmax\n",
    "        self.layers = torch.nn.ModuleList(\n",
    "            [\n",
    "                torch.nn.Linear(input_size, num_classes), #Linear Model\n",
    "                torch.nn.Softmax(dim=1) #Softmax along the output column vector (for a better model, recommended to use LogSoftmax)\n",
    "            ]\n",
    "        )\n",
    "\n",
    "    #Define the forward propogation procedure for the model\n",
    "    def forward(self, x):\n",
    "        #Create variable \"out\" to store the output of the forward propogation\n",
    "        out = x\n",
    "        #Iterate over each layer in the model\n",
    "        for layer in self.layers:\n",
    "            out = layer(out)\n",
    "        #ensure the the output requires use of the gradient for backpropogation\n",
    "        out.requires_grad_()\n",
    "        #return the output of the model on the data\n",
    "        return(out)"
   ]
  },
  {
   "attachments": {},
   "cell_type": "markdown",
   "metadata": {},
   "source": [
    "> Now that we have defined the class for our Logistic Regression model, we can instantiate it\n",
    ">\n",
    "> Before instatiating our model, we must first define 2 hyperparameters: input_size and num_classes (output_size)"
   ]
  },
  {
   "cell_type": "code",
   "execution_count": 163,
   "metadata": {},
   "outputs": [],
   "source": [
    "#Specify the hyperparameter for the input and number of classes for the model\n",
    "input_size = 28*28 #For 28x28 sized image (each pixel will be an input)\n",
    "num_classes = 10 #We are determining if an image is a number 0-9 (10 digits total to choose from)\n",
    "\n",
    "#Instantiate the logistic regresssion model\n",
    "model = LogisticRegression(input_size, num_classes)"
   ]
  },
  {
   "attachments": {},
   "cell_type": "markdown",
   "metadata": {},
   "source": [
    "> There is an alternative approach for defining the logistic regression model\n",
    ">\n",
    "> If we have the softmax function be applied as part of our loss function, then we can define our model as simply a linear regression model. This would work out well because our parameters for the logistic regression model are only present within the module for the linear regression model\n",
    ">\n",
    "> The Crosss Entropy Loss function computes softmax and the negtive log loss together\n",
    ">\n",
    "> This method would be more efficient because the softmax uses exponentials and the log function applied to it would lead to cancelling out some computations (and also reduces overflow). For educational purposes, we will define both models and compare their training time"
   ]
  },
  {
   "cell_type": "code",
   "execution_count": 164,
   "metadata": {},
   "outputs": [],
   "source": [
    "#Specify the hyperparameter for the input and number of classes for the model\n",
    "input_size = 28*28 #For 28x28 sized image (each pixel will be an input)\n",
    "num_classes = 10 #We are determining if an image is a number 0-9 (10 digits total to choose from)\n",
    "\n",
    "#Define the Optimized Logistic Regression Model\n",
    "#Only specify the Linear Regression model; the softmax will get applied as part of the loss function\n",
    "model_optimized = torch.nn.Linear(input_size, num_classes)"
   ]
  },
  {
   "attachments": {},
   "cell_type": "markdown",
   "metadata": {},
   "source": [
    "## Define Loss Function and Optimizer"
   ]
  },
  {
   "attachments": {},
   "cell_type": "markdown",
   "metadata": {},
   "source": [
    "> For our defined model, since we have a multi-class output (>3 class probability vector) then the loss will be computed using the negative log likelihood loss function\n",
    ">\n",
    "> **What is the difference between the Negative Log Likelihood Loss function and the Cross Entropy Loss function?**\n",
    ">>\n",
    ">> Similar to the discussion about the sigmoid and the softmax, the cross entropy loss function is the binary classification case of the negative log likelihood function (https://stats.stackexchange.com/questions/198038/cross-entropy-or-log-likelihood-in-output-layer)\n",
    ">>\n",
    ">> However, in PyTorch, the negative log likelihood (NLL) and the cross entropy (CE) are 2 different functions (https://towardsdatascience.com/cross-entropy-negative-log-likelihood-and-all-that-jazz-47a95bd2e81)\n",
    ">>\n",
    ">> As stated on the PyTorch documentation (https://pytorch.org/docs/stable/generated/torch.nn.Softmax.html) and a blog by J. D. McCaffrey (https://jamesmccaffrey.wordpress.com/2020/10/28/the-pytorch-nllloss-function-doesnt-compute-anything/), the NLL Loss function expects the values passed to be log-probabilities. So we will need to apply the log function before passing values into the loss function\n",
    ">>\n",
    ">> As for the CE Loss function, it expects the raw outputs (known as logits) to be passed to the function so that it can apply the softmax function itself"
   ]
  },
  {
   "cell_type": "code",
   "execution_count": 165,
   "metadata": {},
   "outputs": [],
   "source": [
    "#Define the loss function for the logistic regression model\n",
    "lossFunction = torch.nn.NLLLoss() #Note: the loss function is assuming log-probabilities are passed"
   ]
  },
  {
   "attachments": {},
   "cell_type": "markdown",
   "metadata": {},
   "source": [
    "> We can also define the losss function for our optimized model"
   ]
  },
  {
   "cell_type": "code",
   "execution_count": 166,
   "metadata": {},
   "outputs": [],
   "source": [
    "#Since our optimized model will be passing outputing logits, then we need to use the Cross Entropy Loss function\n",
    "lossFunction_optimizedModel = torch.nn.CrossEntropyLoss() #The Cross Entropy Loss function computes the softmax of the input along with the negative log likelihood"
   ]
  },
  {
   "attachments": {},
   "cell_type": "markdown",
   "metadata": {},
   "source": [
    "> With our loss function defined, we will now define the optimizer responsible for updating the parameters\n",
    ">\n",
    "> The optimizer used will be stochastic gradient descent (SGD) which approximates the gradient by taking a subset of the read data points\n",
    ">\n",
    "> We will also need to define another hyperparameter for the learning rate (step size) of our optimizer"
   ]
  },
  {
   "cell_type": "code",
   "execution_count": 167,
   "metadata": {},
   "outputs": [],
   "source": [
    "#Define the hyperparameter for the step size of the SGD optimizer\n",
    "step_size = 0.001\n",
    "\n",
    "#Define the optimizer as using SGD\n",
    "optimizer = torch.optim.SGD(model.parameters(), lr=step_size)"
   ]
  },
  {
   "attachments": {},
   "cell_type": "markdown",
   "metadata": {},
   "source": [
    "> We will also need to define the hyperparameters and the optimizer for our optimized model"
   ]
  },
  {
   "cell_type": "code",
   "execution_count": 168,
   "metadata": {},
   "outputs": [],
   "source": [
    "#Define the hyperparameter for the step size of the SGD optimizer\n",
    "step_size = 0.001\n",
    "\n",
    "#Define the optimizer as using SGD\n",
    "optimizer_optimizedModel = torch.optim.SGD(model_optimized.parameters(), lr=step_size)"
   ]
  },
  {
   "attachments": {},
   "cell_type": "markdown",
   "metadata": {},
   "source": [
    "## Train Model"
   ]
  },
  {
   "attachments": {},
   "cell_type": "markdown",
   "metadata": {},
   "source": [
    "> Now that we have loaded the data as well as defined the Model, Loss Function, and Optimizer, we can start the train the model\n",
    ">\n",
    "> However, before we begin, we must specify one last hyperparameter: the num_epoch\n",
    ">\n",
    "> num_epoch: the number of epochs which is essentially the number of times to iterate over the entire dataset until we stop training (updating the parameters)"
   ]
  },
  {
   "cell_type": "code",
   "execution_count": 169,
   "metadata": {},
   "outputs": [
    {
     "name": "stdout",
     "output_type": "stream",
     "text": [
      "Epoch [1/5], Step [100/600], Loss: 2.2579615116119385\n",
      "Epoch [1/5], Step [200/600], Loss: 2.136193037033081\n",
      "Epoch [1/5], Step [300/600], Loss: 2.0453946590423584\n",
      "Epoch [1/5], Step [400/600], Loss: 1.9647504091262817\n",
      "Epoch [1/5], Step [500/600], Loss: 1.8947731256484985\n",
      "Epoch [1/5], Step [600/600], Loss: 1.805185079574585\n",
      "Epoch [2/5], Step [100/600], Loss: 1.7052888870239258\n",
      "Epoch [2/5], Step [200/600], Loss: 1.6783255338668823\n",
      "Epoch [2/5], Step [300/600], Loss: 1.6441951990127563\n",
      "Epoch [2/5], Step [400/600], Loss: 1.5480841398239136\n",
      "Epoch [2/5], Step [500/600], Loss: 1.4543054103851318\n",
      "Epoch [2/5], Step [600/600], Loss: 1.4499382972717285\n",
      "Epoch [3/5], Step [100/600], Loss: 1.4479376077651978\n",
      "Epoch [3/5], Step [200/600], Loss: 1.3986167907714844\n",
      "Epoch [3/5], Step [300/600], Loss: 1.3219658136367798\n",
      "Epoch [3/5], Step [400/600], Loss: 1.2508999109268188\n",
      "Epoch [3/5], Step [500/600], Loss: 1.3547626733779907\n",
      "Epoch [3/5], Step [600/600], Loss: 1.2996902465820312\n",
      "Epoch [4/5], Step [100/600], Loss: 1.2235678434371948\n",
      "Epoch [4/5], Step [200/600], Loss: 1.2015581130981445\n",
      "Epoch [4/5], Step [300/600], Loss: 1.2140108346939087\n",
      "Epoch [4/5], Step [400/600], Loss: 1.0976111888885498\n",
      "Epoch [4/5], Step [500/600], Loss: 1.0894163846969604\n",
      "Epoch [4/5], Step [600/600], Loss: 1.1669822931289673\n",
      "Epoch [5/5], Step [100/600], Loss: 1.0818006992340088\n",
      "Epoch [5/5], Step [200/600], Loss: 1.0301234722137451\n",
      "Epoch [5/5], Step [300/600], Loss: 1.0846319198608398\n",
      "Epoch [5/5], Step [400/600], Loss: 0.9663400053977966\n",
      "Epoch [5/5], Step [500/600], Loss: 1.0405552387237549\n",
      "Epoch [5/5], Step [600/600], Loss: 0.9634749889373779\n",
      "It took 0.7647170186042785 minutes to train this model\n"
     ]
    },
    {
     "data": {
      "image/png": "[encoded data removed]",
      "text/plain": [
       "<Figure size 640x480 with 1 Axes>"
      ]
     },
     "metadata": {},
     "output_type": "display_data"
    }
   ],
   "source": [
    "#Define the hyperparamter for num_epochs\n",
    "#num_epochs: the number of times to iterate over the entire dataset\n",
    "num_epochs = 5\n",
    "\n",
    "#Now we can begin the training process\n",
    "#First, we will save a constant for the number of steps (dataset/batch_size)\n",
    "total_steps = len(training_loader)\n",
    "\n",
    "#Start timer to see how much time it takes to train the model\n",
    "start_time = time.time()\n",
    "#Store x and y values to make a plot of the loss\n",
    "x = list()\n",
    "y = list()\n",
    "#Loop for each epoch\n",
    "for epoch in range(num_epochs):\n",
    "    #Loop for each batch\n",
    "    for i, (images, labels) in enumerate(training_loader):\n",
    "        #Reshape images to a feature matrix: row = image features; column = pixel value of images in the batch\n",
    "        #Since the batch_size is not guarenteed to be the same for the final batch, we will let python infer the dimension (i.e., put -1 in the batch_size dimension)\n",
    "        images = images.reshape(-1, input_size)\n",
    "        \n",
    "        #Perform Forward propogation\n",
    "        outputs = model(images)\n",
    "\n",
    "        #Compute the loss of the current model outputs (remember we need to take the log of the probabilites)\n",
    "        outputs = torch.log(outputs)\n",
    "        loss = lossFunction(outputs, labels)\n",
    "\n",
    "        #Prepare for Backward propogation by reseting the gradient for the optimizer\n",
    "        optimizer.zero_grad()\n",
    "        #Perform Backward propogation to acquire the gradient\n",
    "        loss.backward()\n",
    "        #Take a step to update the parameters of the model\n",
    "        optimizer.step()\n",
    "\n",
    "        #Every 100 steps, print/save the data\n",
    "        if((i+1)%100 == 0):\n",
    "            #Print the output of the current point in training for the model and its current loss\n",
    "            print(f\"Epoch [{epoch+1}/{num_epochs}], Step [{i+1}/{total_steps}], Loss: {loss.item()}\")\n",
    "            #Save the data to plot\n",
    "            x.append(epoch + i/total_steps)\n",
    "            y.append(loss.item())\n",
    "\n",
    "#Stop the timer\n",
    "stop_time = time.time()\n",
    "\n",
    "#Compute and print the total training time\n",
    "print(f\"It took {(stop_time - start_time)/60} minutes to train this model\")\n",
    "\n",
    "#Print the loss as a function of the epochs\n",
    "plt.plot(x, y)\n",
    "plt.title(\"NLL_Loss vs Epoch\")\n",
    "plt.xlabel(\"Epoch\")\n",
    "plt.ylabel(\"NLL_Loss\")\n",
    "plt.show()"
   ]
  },
  {
   "attachments": {},
   "cell_type": "markdown",
   "metadata": {},
   "source": [
    "> We can also train the optimized version of the model"
   ]
  },
  {
   "cell_type": "code",
   "execution_count": 170,
   "metadata": {},
   "outputs": [
    {
     "name": "stdout",
     "output_type": "stream",
     "text": [
      "Epoch [1/5], Step [100/600], Loss: 2.2074079513549805\n",
      "Epoch [1/5], Step [200/600], Loss: 2.1206705570220947\n",
      "Epoch [1/5], Step [300/600], Loss: 2.0164754390716553\n",
      "Epoch [1/5], Step [400/600], Loss: 1.9492123126983643\n",
      "Epoch [1/5], Step [500/600], Loss: 1.8557138442993164\n",
      "Epoch [1/5], Step [600/600], Loss: 1.8170804977416992\n",
      "Epoch [2/5], Step [100/600], Loss: 1.7679640054702759\n",
      "Epoch [2/5], Step [200/600], Loss: 1.703092336654663\n",
      "Epoch [2/5], Step [300/600], Loss: 1.6003893613815308\n",
      "Epoch [2/5], Step [400/600], Loss: 1.644710898399353\n",
      "Epoch [2/5], Step [500/600], Loss: 1.5342351198196411\n",
      "Epoch [2/5], Step [600/600], Loss: 1.5236129760742188\n",
      "Epoch [3/5], Step [100/600], Loss: 1.3532451391220093\n",
      "Epoch [3/5], Step [200/600], Loss: 1.3789808750152588\n",
      "Epoch [3/5], Step [300/600], Loss: 1.3520370721817017\n",
      "Epoch [3/5], Step [400/600], Loss: 1.2955094575881958\n",
      "Epoch [3/5], Step [500/600], Loss: 1.224042534828186\n",
      "Epoch [3/5], Step [600/600], Loss: 1.3042072057724\n",
      "Epoch [4/5], Step [100/600], Loss: 1.2120193243026733\n",
      "Epoch [4/5], Step [200/600], Loss: 1.173425555229187\n",
      "Epoch [4/5], Step [300/600], Loss: 1.197920799255371\n",
      "Epoch [4/5], Step [400/600], Loss: 1.2203466892242432\n",
      "Epoch [4/5], Step [500/600], Loss: 1.103829026222229\n",
      "Epoch [4/5], Step [600/600], Loss: 1.1194841861724854\n",
      "Epoch [5/5], Step [100/600], Loss: 1.1231399774551392\n",
      "Epoch [5/5], Step [200/600], Loss: 1.0209357738494873\n",
      "Epoch [5/5], Step [300/600], Loss: 1.0908163785934448\n",
      "Epoch [5/5], Step [400/600], Loss: 1.0295908451080322\n",
      "Epoch [5/5], Step [500/600], Loss: 1.0442125797271729\n",
      "Epoch [5/5], Step [600/600], Loss: 1.05177903175354\n",
      "It took 0.7781570434570313 minutes to train this model\n"
     ]
    },
    {
     "data": {
      "image/png": "[encoded data removed]",
      "text/plain": [
       "<Figure size 640x480 with 1 Axes>"
      ]
     },
     "metadata": {},
     "output_type": "display_data"
    }
   ],
   "source": [
    "#Define the hyperparamter for num_epochs\n",
    "#num_epochs: the number of times to iterate over the entire dataset\n",
    "num_epochs = 5\n",
    "\n",
    "#Now we can begin the training process\n",
    "#First, we will save a constant for the number of steps (dataset/batch_size)\n",
    "total_steps = len(training_loader)\n",
    "\n",
    "#Start timer to see how much time it takes to train the model\n",
    "start_time = time.time()\n",
    "#Store x and y values to make a plot of the loss\n",
    "x = list()\n",
    "y = list()\n",
    "#Loop for each epoch\n",
    "for epoch in range(num_epochs):\n",
    "    #Loop for each batch\n",
    "    for i, (images, labels) in enumerate(training_loader):\n",
    "        #Reshape images to a feature matrix: row = image features; column = pixel value of images in the batch\n",
    "        #Since the batch_size is not guarenteed to be the same for the final batch, we will let python infer the dimension (i.e., put -1 in the batch_size dimension)\n",
    "        images = images.reshape(-1, input_size)\n",
    "        \n",
    "        #Perform Forward propogation\n",
    "        outputs = model_optimized(images)\n",
    "\n",
    "        #Compute the loss of the current model outputs (remember we need to take the log of the probabilites)\n",
    "        loss = lossFunction_optimizedModel(outputs, labels)\n",
    "\n",
    "        #Prepare for Backward propogation by reseting the gradient for the optimizer\n",
    "        optimizer_optimizedModel.zero_grad()\n",
    "        #Perform Backward propogation to acquire the gradient\n",
    "        loss.backward()\n",
    "        #Take a step to update the parameters of the model\n",
    "        optimizer_optimizedModel.step()\n",
    "\n",
    "        #Every 100 steps, print/save the data\n",
    "        if((i+1)%100 == 0):\n",
    "            #Print the output of the current point in training for the model and its current loss\n",
    "            print(f\"Epoch [{epoch+1}/{num_epochs}], Step [{i+1}/{total_steps}], Loss: {loss.item()}\")\n",
    "            #Save the data to plot\n",
    "            x.append(epoch + i/total_steps)\n",
    "            y.append(loss.item())\n",
    "\n",
    "#Stop the timer\n",
    "stop_time = time.time()\n",
    "\n",
    "#Compute and print the total training time\n",
    "print(f\"It took {(stop_time - start_time)/60} minutes to train this model\")\n",
    "\n",
    "#Print the loss as a function of the epochs\n",
    "plt.plot(x, y)\n",
    "plt.title(\"NLL_Loss vs Epoch\")\n",
    "plt.xlabel(\"Epoch\")\n",
    "plt.ylabel(\"NLL_Loss\")\n",
    "plt.show()"
   ]
  },
  {
   "attachments": {},
   "cell_type": "markdown",
   "metadata": {},
   "source": [
    "## Test Model"
   ]
  },
  {
   "attachments": {},
   "cell_type": "markdown",
   "metadata": {},
   "source": [
    "> Now that we have trained our model, we can test it with data it has never seen before\n",
    ">\n",
    "> Since we are only getting the predictions of the models when testing and not updating the paramters, we can turn off AutoGrad for memory efficiency"
   ]
  },
  {
   "cell_type": "code",
   "execution_count": 171,
   "metadata": {},
   "outputs": [
    {
     "name": "stdout",
     "output_type": "stream",
     "text": [
      "Accuracy of the model on 10,000 test images: 82.9000015258789%\n"
     ]
    }
   ],
   "source": [
    "#Test the model without computing any gradients\n",
    "with torch.no_grad():\n",
    "    #Create counter variables to store the total number of items the model gets correct\n",
    "    total = 0\n",
    "    correct = 0\n",
    "    #Loop through each test batch\n",
    "    for images, labels in testing_loader:\n",
    "        #resize the images from the batch to a data matrix of dimensions (batch_size, imput_size)\n",
    "        images = images.reshape(-1, input_size) #since the batch_size is not a constant, allow the correct dimension to be inferred from the data (via -1 in dimension)\n",
    "        \n",
    "        #Perform forward propogation with the testing input\n",
    "        outputs = model(images)\n",
    "\n",
    "        #Set the preicted class as the index with the max probability\n",
    "        values, predictions = torch.max(outputs.data, dim=1) #look along the columns of the output matrix\n",
    "\n",
    "        #Add to the count of the total predictions\n",
    "        total += labels.size(dim=0)\n",
    "        #Add to the count of the total number correct (the total number of times the labels match at the same index)\n",
    "        correct += (predictions == labels).sum()\n",
    "    \n",
    "    #Print the accurcy of the classification\n",
    "    print(f\"Accuracy of the model on 10,000 test images: {(correct/total)*100}%\")"
   ]
  },
  {
   "attachments": {},
   "cell_type": "markdown",
   "metadata": {},
   "source": [
    "> We can also test the optimized model\n",
    ">\n",
    "> We expect the classification accuracy to be the same (neglecting some small variance from training) because the \"optimized\" portion of the model was only for the expected increase to the speed of training"
   ]
  },
  {
   "cell_type": "code",
   "execution_count": 172,
   "metadata": {},
   "outputs": [
    {
     "name": "stdout",
     "output_type": "stream",
     "text": [
      "Accuracy of the optimized model on 10,000 test images: 83.20999908447266%\n"
     ]
    }
   ],
   "source": [
    "#Test the model without computing any gradients\n",
    "with torch.no_grad():\n",
    "    #Create counter variables to store the total number of items the model gets correct\n",
    "    total = 0\n",
    "    correct = 0\n",
    "    #Loop through each test batch\n",
    "    for images, labels in testing_loader:\n",
    "        #resize the images from the batch to a data matrix of dimensions (batch_size, imput_size)\n",
    "        images = images.reshape(-1, input_size) #since the batch_size is not a constant, allow the correct dimension to be inferred from the data (via -1 in dimension)\n",
    "        \n",
    "        #Perform forward propogation with the testing input\n",
    "        outputs = model_optimized(images)\n",
    "\n",
    "        #Set the preicted class as the index with the max probability\n",
    "        values, predictions = torch.max(outputs.data, dim=1) #look along the columns of the output matrix\n",
    "\n",
    "        #Add to the count of the total predictions\n",
    "        total += labels.size(dim=0)\n",
    "        #Add to the count of the total number correct (the total number of times the labels match at the same index)\n",
    "        correct += (predictions == labels).sum()\n",
    "    \n",
    "    #Print the accurcy of the classification\n",
    "    print(f\"Accuracy of the optimized model on 10,000 test images: {(correct/total)*100}%\")"
   ]
  },
  {
   "attachments": {},
   "cell_type": "markdown",
   "metadata": {},
   "source": [
    "## Save Model"
   ]
  },
  {
   "attachments": {},
   "cell_type": "markdown",
   "metadata": {},
   "source": [
    "> Now that we have successfully trained our model and tested to ensure that everything is correct, we can save the trained model to share or use in a program"
   ]
  },
  {
   "cell_type": "code",
   "execution_count": 173,
   "metadata": {},
   "outputs": [],
   "source": [
    "#Save the initial trained model\n",
    "torch.save(model.state_dict(), \"model.ckpt\")\n",
    "\n",
    "#save the optimized trained model\n",
    "torch.save(model_optimized.state_dict(), \"model_optimized.ckpt\")"
   ]
  }
 ],
 "metadata": {
  "kernelspec": {
   "display_name": "PythonVirtualEnvironment",
   "language": "python",
   "name": "python3"
  },
  "language_info": {
   "codemirror_mode": {
    "name": "ipython",
    "version": 3
   },
   "file_extension": ".py",
   "mimetype": "text/x-python",
   "name": "python",
   "nbconvert_exporter": "python",
   "pygments_lexer": "ipython3",
   "version": "3.10.11"
  },
  "orig_nbformat": 4
 },
 "nbformat": 4,
 "nbformat_minor": 2
}
