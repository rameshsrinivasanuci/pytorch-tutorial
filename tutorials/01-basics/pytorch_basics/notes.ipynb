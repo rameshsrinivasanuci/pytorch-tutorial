{
 "cells": [
  {
   "attachments": {},
   "cell_type": "markdown",
   "metadata": {},
   "source": [
    "# PyTorch Basics\n",
    "> Introduction into the basics of using the PyTorch tools alongside NumPy\n",
    ">\n",
    "> **Table Of Contents:**\n",
    ">> 1. Using AutoGrad\n",
    ">>\n",
    ">> 2. Loading Data from NumPy\n",
    ">>\n",
    ">> 3. The Input Pipeline\n",
    ">>\n",
    ">> 4. Running a Pre-Trained Model\n",
    ">>\n",
    ">> 5. Saving and Loading Models"
   ]
  },
  {
   "attachments": {},
   "cell_type": "markdown",
   "metadata": {},
   "source": [
    "## Using AutoGrad"
   ]
  },
  {
   "attachments": {},
   "cell_type": "markdown",
   "metadata": {},
   "source": [
    "> **What is AutoGrad?**\n",
    ">> AutoGrad (automatic gradient) is the automatic differentition tool, recording the change history of tensors to follow the changes and apply the chain rule to compute gradients (https://pytorch.org/docs/stable/notes/autograd)\n",
    ">\n",
    "> **Why is the gradient important?**\n",
    ">> As written by Goodfellow et al. (ch. 4.3), deep-learning involves the optimization of an objective function. And so, the gradient allows us to get the direction with the highest rate of change at a specifc point. By then taking the opposite direction (i.e., gradient descent), we can minimize the objective function (also known as the loss function) which results in a relatively good set of parameters.\n",
    ">\n",
    "> **How to import AutoGrad?**\n",
    ">> AutoGrad is apart of the torch module (torch.AutoGrad), so we only need to import torch to use the AutoGrad tool"
   ]
  },
  {
   "cell_type": "code",
   "execution_count": 1,
   "metadata": {},
   "outputs": [],
   "source": [
    "#Import the torch module to use AutoGrad\n",
    "import torch"
   ]
  },
  {
   "attachments": {},
   "cell_type": "markdown",
   "metadata": {},
   "source": [
    "> **How to use AutoGrad?**\n",
    ">> As the name implies, AutoGrad works automatically in the background; however, we must specify when we want it to be keeping track of tensor change history"
   ]
  },
  {
   "cell_type": "code",
   "execution_count": 4,
   "metadata": {},
   "outputs": [
    {
     "name": "stdout",
     "output_type": "stream",
     "text": [
      "x = tensor([1.], requires_grad=True)\n",
      "w = tensor([2.], requires_grad=True)\n",
      "b = tensor([3.], requires_grad=True)\n"
     ]
    }
   ],
   "source": [
    "#Create tensors specifying the gradient will be needed for later\n",
    "x = torch.tensor([1.0], requires_grad=True)\n",
    "w = torch.tensor([2.0], requires_grad=True)\n",
    "b = torch.tensor([3.0], requires_grad=True)\n",
    "\n",
    "#Print the current tensors made\n",
    "print(f\"x = {x}\")\n",
    "print(f\"w = {w}\")\n",
    "print(f\"b = {b}\")"
   ]
  },
  {
   "attachments": {},
   "cell_type": "markdown",
   "metadata": {},
   "source": [
    ">**In what way do we \"change\" the tensors?**\n",
    ">> We can apply mathematical functions such as a linear function to combine our tensors and get a resulting tensor. This works out well because an artificial neural network is nothing more than a mathematical function, mapping our input to the output."
   ]
  },
  {
   "cell_type": "code",
   "execution_count": 6,
   "metadata": {},
   "outputs": [],
   "source": [
    "#Apply the tensors as a simple linear equation and save the result\n",
    "y = w*x + b"
   ]
  },
  {
   "attachments": {},
   "cell_type": "markdown",
   "metadata": {},
   "source": [
    "> **We now have some history of changes made; now what?**\n",
    ">> With at least one change made to the tensors, we can determine the gradient by using backwards propogation.\n",
    ">\n",
    ">**What is backwards propogation?**\n",
    ">> idk exactly yet lol"
   ]
  },
  {
   "cell_type": "code",
   "execution_count": null,
   "metadata": {},
   "outputs": [],
   "source": [
    "y.backward()\n",
    "\n",
    "print(x.grad)\n",
    "print(w.grad)\n",
    "print(b.grad)"
   ]
  }
 ],
 "metadata": {
  "kernelspec": {
   "display_name": "PythonVirtualEnvironment",
   "language": "python",
   "name": "python3"
  },
  "language_info": {
   "codemirror_mode": {
    "name": "ipython",
    "version": 3
   },
   "file_extension": ".py",
   "mimetype": "text/x-python",
   "name": "python",
   "nbconvert_exporter": "python",
   "pygments_lexer": "ipython3",
   "version": "3.10.11"
  },
  "orig_nbformat": 4
 },
 "nbformat": 4,
 "nbformat_minor": 2
}
